{
  "nbformat": 4,
  "nbformat_minor": 0,
  "metadata": {
    "colab": {
      "provenance": [],
      "authorship_tag": "ABX9TyP4DmKGmpn/SEe1O4FKBGQn",
      "include_colab_link": true
    },
    "kernelspec": {
      "name": "python3",
      "display_name": "Python 3"
    },
    "language_info": {
      "name": "python"
    }
  },
  "cells": [
    {
      "cell_type": "markdown",
      "metadata": {
        "id": "view-in-github",
        "colab_type": "text"
      },
      "source": [
        "<a href=\"https://colab.research.google.com/github/mwanzia-2000/Advanced/blob/main/DATASCIENCE%20CAT2.ipynb\" target=\"_parent\"><img src=\"https://colab.research.google.com/assets/colab-badge.svg\" alt=\"Open In Colab\"/></a>"
      ]
    },
    {
      "cell_type": "code",
      "source": [
        "from google.colab import drive\n",
        "drive.mount('/content/drive')\n",
        "import pandas as pd\n",
        "file_path = '/content/drive/MyDrive/predictive_maintenance/master.csv.xlsx'\n",
        "data = pd.read_excel(file_path, sheet_name='Sheet1')\n",
        "print(\"First 5 rows of the DataFrame:\")"
      ],
      "metadata": {
        "colab": {
          "base_uri": "https://localhost:8080/"
        },
        "id": "au3W9nx8orN_",
        "outputId": "f9701da3-07dd-45a7-a4b6-32890b8a2a7d"
      },
      "execution_count": 9,
      "outputs": [
        {
          "output_type": "stream",
          "name": "stdout",
          "text": [
            "Drive already mounted at /content/drive; to attempt to forcibly remount, call drive.mount(\"/content/drive\", force_remount=True).\n",
            "First 5 rows of the DataFrame:\n"
          ]
        }
      ]
    },
    {
      "cell_type": "code",
      "source": [
        "drive.mount(\"/content/drive\", force_remount=True)"
      ],
      "metadata": {
        "colab": {
          "base_uri": "https://localhost:8080/"
        },
        "id": "H-DrWQEVrgEk",
        "outputId": "a42a82f9-98e9-46b9-b750-1654d1e42186"
      },
      "execution_count": 10,
      "outputs": [
        {
          "output_type": "stream",
          "name": "stdout",
          "text": [
            "Mounted at /content/drive\n"
          ]
        }
      ]
    },
    {
      "cell_type": "code",
      "source": [
        "import pandas as pd\n",
        "file_path = '/content/drive/MyDrive/predictive_maintenance/master.csv.xlsx'\n",
        "data = pd.read_excel(file_path, sheet_name='Sheet1')\n",
        "print(\"First 5 rows of the DataFrame:\")"
      ],
      "metadata": {
        "colab": {
          "base_uri": "https://localhost:8080/"
        },
        "id": "2tWA3nKWrjET",
        "outputId": "0708c185-249c-4bd5-c2ad-7a4a5ccf20ec"
      },
      "execution_count": 11,
      "outputs": [
        {
          "output_type": "stream",
          "name": "stdout",
          "text": [
            "First 5 rows of the DataFrame:\n"
          ]
        }
      ]
    },
    {
      "cell_type": "code",
      "source": [
        "print(data.head())"
      ],
      "metadata": {
        "colab": {
          "base_uri": "https://localhost:8080/"
        },
        "id": "rpSgZxtbvTo0",
        "outputId": "7f5403ba-662d-41d6-fb61-8d1b491fc9ed"
      },
      "execution_count": 12,
      "outputs": [
        {
          "output_type": "stream",
          "name": "stdout",
          "text": [
            "             timestamp temperature  pressure  vibration  runtime  \\\n",
            "0  2023-01-01 00:00:00    00:00:00      30.5       0.10    120.0   \n",
            "1  2023-01-01 00:00:00    01:00:00      32.0       0.15    125.0   \n",
            "2  2023-01-01 00:00:00    02:00:00      33.5       0.12    130.0   \n",
            "3  2023-01-01 00:00:00    03:00:00      31.2       0.20    135.0   \n",
            "4  2023-01-01 00:00:00    04:00:00      30.8       0.18    140.0   \n",
            "\n",
            "  maintenance_type  failure_label  \n",
            "0             None            0.0  \n",
            "1             None            0.0  \n",
            "2             None            0.0  \n",
            "3     MaintenanceA            0.0  \n",
            "4             None            1.0  \n"
          ]
        }
      ]
    },
    {
      "cell_type": "code",
      "source": [
        "from sklearn.model_selection import train_test_split"
      ],
      "metadata": {
        "id": "GPnj9htQvanE"
      },
      "execution_count": 13,
      "outputs": []
    },
    {
      "cell_type": "code",
      "source": [
        "from sklearn.ensemble import RandomForestClassifier"
      ],
      "metadata": {
        "id": "FVJvfdePviqD"
      },
      "execution_count": 14,
      "outputs": []
    },
    {
      "cell_type": "code",
      "source": [
        "from sklearn.metrics import accuracy_score, classification_report"
      ],
      "metadata": {
        "id": "ZVw4KLkzvsVe"
      },
      "execution_count": 15,
      "outputs": []
    },
    {
      "cell_type": "code",
      "source": [
        "X = data.drop('failure_label', axis=1)"
      ],
      "metadata": {
        "id": "0ZMs_KErvxme"
      },
      "execution_count": 16,
      "outputs": []
    },
    {
      "cell_type": "code",
      "source": [
        "y = data['failure_label']"
      ],
      "metadata": {
        "id": "nd6AGtoov7aF"
      },
      "execution_count": 17,
      "outputs": []
    },
    {
      "cell_type": "code",
      "source": [
        "X_train, X_test, y_train, y_test = train_test_split(X, y, test_size=0.2, random_state=42)"
      ],
      "metadata": {
        "id": "gp17LXPrv_5e"
      },
      "execution_count": 18,
      "outputs": []
    },
    {
      "cell_type": "code",
      "source": [
        "model = RandomForestClassifier(random_state=42)"
      ],
      "metadata": {
        "id": "B-_IzUVywH01"
      },
      "execution_count": 19,
      "outputs": []
    },
    {
      "cell_type": "code",
      "source": [
        "timestamp_column = ['timestamp']"
      ],
      "metadata": {
        "id": "aKc1nBqNw5vn"
      },
      "execution_count": 28,
      "outputs": []
    },
    {
      "cell_type": "code",
      "source": [
        "numeric_features = X.select_dtypes(include=['number']).columns.tolist()"
      ],
      "metadata": {
        "id": "dyXQtHNSz_wy"
      },
      "execution_count": 30,
      "outputs": []
    },
    {
      "cell_type": "code",
      "source": [
        "categorical_features = X.select_dtypes(include=['object']).columns.tolist()"
      ],
      "metadata": {
        "id": "K4kccvpK0Mri"
      },
      "execution_count": 32,
      "outputs": []
    },
    {
      "cell_type": "code",
      "source": [
        "from sklearn.pipeline import Pipeline"
      ],
      "metadata": {
        "id": "pAX-7Qro031S"
      },
      "execution_count": 33,
      "outputs": []
    },
    {
      "cell_type": "code",
      "source": [
        "from sklearn.preprocessing import StandardScaler"
      ],
      "metadata": {
        "id": "lSNg75RN05wQ"
      },
      "execution_count": 34,
      "outputs": []
    },
    {
      "cell_type": "code",
      "source": [
        "\n",
        "from sklearn.model_selection import train_test_split\n",
        "from sklearn.ensemble import RandomForestClassifier\n",
        "from sklearn.metrics import accuracy_score, classification_report\n",
        "from sklearn.compose import ColumnTransformer\n"
      ],
      "metadata": {
        "id": "LbBOlX_p1SJU"
      },
      "execution_count": 35,
      "outputs": []
    },
    {
      "cell_type": "code",
      "source": [
        "numeric_transformer = Pipeline(steps=[('scaler', StandardScaler())])\n"
      ],
      "metadata": {
        "id": "00xg3FSZ1fn6"
      },
      "execution_count": 37,
      "outputs": []
    },
    {
      "cell_type": "code",
      "source": [
        "preprocessor = ColumnTransformer(\n",
        "    transformers=[\n",
        "        ('num', numeric_transformer, numeric_features),\n",
        "\n",
        "    ])"
      ],
      "metadata": {
        "id": "gWWn516T1n_l"
      },
      "execution_count": 38,
      "outputs": []
    },
    {
      "cell_type": "code",
      "source": [
        "pipeline = Pipeline(steps=[('preprocessor', preprocessor),\n",
        "                            ('classifier', RandomForestClassifier(random_state=42))])"
      ],
      "metadata": {
        "id": "qcQ41rf72G5L"
      },
      "execution_count": 49,
      "outputs": []
    },
    {
      "cell_type": "code",
      "source": [
        "import pandas as pd\n",
        "from sklearn.model_selection import train_test_split\n",
        "from sklearn.ensemble import RandomForestClassifier\n",
        "from sklearn.metrics import accuracy_score, classification_report\n",
        "from sklearn.preprocessing import StandardScaler\n",
        "from sklearn.compose import ColumnTransformer\n",
        "from sklearn.pipeline import Pipeline\n",
        "\n",
        "\n",
        "file_path = '/content/drive/MyDrive/predictive_maintenance/master.csv.xlsx'\n",
        "\n",
        "# Converting the 'timestamp' column to datetime\n",
        "import pandas as pd\n",
        "\n",
        "\n",
        "data = pd.DataFrame({\n",
        "    'timestamp': ['1/1/2023 0:00:00', '1/1/2023 1:00:00', '1/1/2023 2:00:00', '1/1/2023 3:00:00', '1/1/2023 4:00:00'],\n",
        "    'temperature': [30.5, 32.0, 33.5, 31.2, 30.8],\n",
        "    'pressure': [1000, 980, 1020, 1012, 990],\n",
        "    'vibration': [0.1, 0.15, 0.12, 0.2, 0.18],\n",
        "    'runtime': [120, 125, 130, 135, 140],\n",
        "    'maintenance_type': ['None', 'None', 'None', 'MaintenanceA', 'None'],\n",
        "    'failure_label': [0, 0, 0, 0, 1]\n",
        "})\n",
        "\n",
        "# Converting the 'timestamp' column to datetime format\n",
        "data['timestamp'] = pd.to_datetime(data['timestamp'], format='%m/%d/%Y %H:%M:%S')\n",
        "\n",
        "# Display the updated DataFrame\n",
        "print(data)\n",
        "\n",
        "\n",
        "# Separation of features (X) and target variable (y)\n",
        "X = data.drop('failure_label', axis=1)\n",
        "y = data['failure_label']\n",
        "\n",
        "# Spliting the data into training and testing sets\n",
        "X_train, X_test, y_train, y_test = train_test_split(X, y, test_size=0.2, random_state=42)\n",
        "\n",
        "# Preprocessing pipeline\n",
        "numeric_features = X.select_dtypes(include=['number']).columns.tolist()\n",
        "categorical_features = X.select_dtypes(include=['object']).columns.tolist()\n",
        "\n",
        "numeric_transformer = Pipeline(steps=[('scaler', StandardScaler())])\n",
        "from sklearn.compose import ColumnTransformer\n",
        "from sklearn.pipeline import Pipeline\n",
        "from sklearn.preprocessing import StandardScaler, OneHotEncoder\n",
        "\n",
        "\n",
        "data = pd.DataFrame({\n",
        "    'timestamp': ['1/1/2023 0:00:00', '1/1/2023 1:00:00', '1/1/2023 2:00:00', '1/1/2023 3:00:00', '1/1/2023 4:00:00'],\n",
        "    'temperature': [30.5, 32.0, 33.5, 31.2, 30.8],\n",
        "    'pressure': [1000, 980, 1020, 1012, 990],\n",
        "    'vibration': [0.1, 0.15, 0.12, 0.2, 0.18],\n",
        "    'runtime': [120, 125, 130, 135, 140],\n",
        "    'maintenance_type': ['None', 'None', 'None', 'MaintenanceA', 'None'],\n",
        "    'failure_label': [0, 0, 0, 0, 1]\n",
        "})\n",
        "\n",
        "# Separating features (X) and target variable (y)\n",
        "X = data.drop('failure_label', axis=1)\n",
        "y = data['failure_label']\n",
        "\n",
        "# Preprocessing the pipeline\n",
        "numeric_features = X.select_dtypes(include=['number']).columns.tolist()\n",
        "categorical_features = X.select_dtypes(include=['object']).columns.tolist()\n",
        "\n",
        "# Numeric transformer\n",
        "numeric_transformer = Pipeline(steps=[('scaler', StandardScaler())])\n",
        "\n",
        "# Categorical transformer\n",
        "categorical_transformer = Pipeline(steps=[\n",
        "    ('onehot', OneHotEncoder(handle_unknown='ignore'))\n",
        "])\n",
        "\n",
        "# Combining the transformers\n",
        "preprocessor = ColumnTransformer(\n",
        "    transformers=[\n",
        "        ('num', numeric_transformer, numeric_features),\n",
        "        ('cat', categorical_transformer, categorical_features)\n",
        "    ])\n",
        "\n",
        "# Combining preprocessing with the classifier in a pipeline\n",
        "pipeline = Pipeline(steps=[('preprocessor', preprocessor),\n",
        "                            ('classifier', RandomForestClassifier(random_state=42))])\n",
        "\n",
        "# Training the model\n",
        "pipeline.fit(X, y)\n",
        "\n",
        "preprocessor = ColumnTransformer(\n",
        "    transformers=[\n",
        "        ('num', numeric_transformer, numeric_features),\n",
        "        ('cat', categorical_transformer, categorical_features)\n",
        "    ])\n",
        "\n",
        "# Combining preprocessing with the classifier in a pipeline\n",
        "pipeline = Pipeline(steps=[('preprocessor', preprocessor),\n",
        "                            ('classifier', RandomForestClassifier(random_state=42))])\n",
        "\n",
        "# Training the model\n",
        "pipeline.fit(X_train, y_train)\n",
        "\n",
        "# Making predictions on the test set\n",
        "predictions = pipeline.predict(X_test)\n",
        "\n",
        "# Evaluation of the model\n",
        "accuracy = accuracy_score(y_test, predictions)\n",
        "report = classification_report(y_test, predictions)\n",
        "\n",
        "print(f'Accuracy: {accuracy}')\n",
        "print('Classification Report:\\n', report)\n"
      ],
      "metadata": {
        "colab": {
          "base_uri": "https://localhost:8080/"
        },
        "id": "1HJ13Rlo4KC6",
        "outputId": "89d609bf-23d9-4549-8ecb-1d0604538462"
      },
      "execution_count": 54,
      "outputs": [
        {
          "output_type": "stream",
          "name": "stdout",
          "text": [
            "            timestamp  temperature  pressure  vibration  runtime  \\\n",
            "0 2023-01-01 00:00:00         30.5      1000       0.10      120   \n",
            "1 2023-01-01 01:00:00         32.0       980       0.15      125   \n",
            "2 2023-01-01 02:00:00         33.5      1020       0.12      130   \n",
            "3 2023-01-01 03:00:00         31.2      1012       0.20      135   \n",
            "4 2023-01-01 04:00:00         30.8       990       0.18      140   \n",
            "\n",
            "  maintenance_type  failure_label  \n",
            "0             None              0  \n",
            "1             None              0  \n",
            "2             None              0  \n",
            "3     MaintenanceA              0  \n",
            "4             None              1  \n",
            "Accuracy: 1.0\n",
            "Classification Report:\n",
            "               precision    recall  f1-score   support\n",
            "\n",
            "           0       1.00      1.00      1.00         1\n",
            "\n",
            "    accuracy                           1.00         1\n",
            "   macro avg       1.00      1.00      1.00         1\n",
            "weighted avg       1.00      1.00      1.00         1\n",
            "\n"
          ]
        }
      ]
    },
    {
      "cell_type": "code",
      "source": [],
      "metadata": {
        "id": "_FOBjGEI4dD9"
      },
      "execution_count": null,
      "outputs": []
    }
  ]
}