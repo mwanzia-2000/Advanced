{
  "nbformat": 4,
  "nbformat_minor": 0,
  "metadata": {
    "colab": {
      "provenance": [],
      "authorship_tag": "ABX9TyPT5LT6c/JCsRnlrMidbYfE",
      "include_colab_link": true
    },
    "kernelspec": {
      "name": "python3",
      "display_name": "Python 3"
    },
    "language_info": {
      "name": "python"
    }
  },
  "cells": [
    {
      "cell_type": "markdown",
      "metadata": {
        "id": "view-in-github",
        "colab_type": "text"
      },
      "source": [
        "<a href=\"https://colab.research.google.com/github/mwanzia-2000/Advanced/blob/main/CAT2.ipynb\" target=\"_parent\"><img src=\"https://colab.research.google.com/assets/colab-badge.svg\" alt=\"Open In Colab\"/></a>"
      ]
    },
    {
      "cell_type": "code",
      "execution_count": 1,
      "metadata": {
        "id": "jSKkSmX3fhsB"
      },
      "outputs": [],
      "source": [
        "from google.colab import drive"
      ]
    },
    {
      "cell_type": "code",
      "source": [
        "drive.mount('/content/drive')"
      ],
      "metadata": {
        "colab": {
          "base_uri": "https://localhost:8080/"
        },
        "id": "ocHRmfLLfrGY",
        "outputId": "8c37fab4-7d71-42e8-f1dd-67c9c5ffaa01"
      },
      "execution_count": 3,
      "outputs": [
        {
          "output_type": "stream",
          "name": "stdout",
          "text": [
            "Mounted at /content/drive\n"
          ]
        }
      ]
    },
    {
      "cell_type": "code",
      "source": [
        "import pandas as pd\n"
      ],
      "metadata": {
        "id": "e_AelJEAgJKq"
      },
      "execution_count": 4,
      "outputs": []
    },
    {
      "cell_type": "code",
      "source": [
        "file_path = '/content/drive/MyDrive/predictive_maintenance/master.csv.xlsx'"
      ],
      "metadata": {
        "id": "ftmqYbGVhPHV"
      },
      "execution_count": 6,
      "outputs": []
    },
    {
      "cell_type": "code",
      "source": [
        "data = pd.read_excel(file_path, sheet_name='Sheet1')"
      ],
      "metadata": {
        "id": "-mwa2xi_hidO"
      },
      "execution_count": 8,
      "outputs": []
    },
    {
      "cell_type": "code",
      "source": [
        "print(\"First 5 rows of the DataFrame:\")"
      ],
      "metadata": {
        "colab": {
          "base_uri": "https://localhost:8080/"
        },
        "id": "jdohAc54iQyc",
        "outputId": "585e319c-dff4-4f77-e75d-d436ca742587"
      },
      "execution_count": 9,
      "outputs": [
        {
          "output_type": "stream",
          "name": "stdout",
          "text": [
            "First 5 rows of the DataFrame:\n"
          ]
        }
      ]
    },
    {
      "cell_type": "code",
      "source": [
        "print(data.head())"
      ],
      "metadata": {
        "colab": {
          "base_uri": "https://localhost:8080/"
        },
        "id": "zgvfR697jagd",
        "outputId": "1f759415-2281-47c4-99aa-530c59ab0f5d"
      },
      "execution_count": 10,
      "outputs": [
        {
          "output_type": "stream",
          "name": "stdout",
          "text": [
            "             timestamp temperature  pressure  vibration  runtime  \\\n",
            "0  2023-01-01 00:00:00    00:00:00      30.5       0.10    120.0   \n",
            "1  2023-01-01 00:00:00    01:00:00      32.0       0.15    125.0   \n",
            "2  2023-01-01 00:00:00    02:00:00      33.5       0.12    130.0   \n",
            "3  2023-01-01 00:00:00    03:00:00      31.2       0.20    135.0   \n",
            "4  2023-01-01 00:00:00    04:00:00      30.8       0.18    140.0   \n",
            "\n",
            "  maintenance_type  failure_label  \n",
            "0             None            0.0  \n",
            "1             None            0.0  \n",
            "2             None            0.0  \n",
            "3     MaintenanceA            0.0  \n",
            "4             None            1.0  \n"
          ]
        }
      ]
    },
    {
      "cell_type": "code",
      "source": [
        "first_row = data.iloc[0]\n",
        "\n",
        "# Print the first row\n",
        "print(\"\\nFirst Row:\")\n",
        "print(first_row)"
      ],
      "metadata": {
        "colab": {
          "base_uri": "https://localhost:8080/"
        },
        "id": "oY0gQ6yejipP",
        "outputId": "dd234d47-e345-4ee1-f2eb-36d5ef6f2398"
      },
      "execution_count": 12,
      "outputs": [
        {
          "output_type": "stream",
          "name": "stdout",
          "text": [
            "\n",
            "First Row:\n",
            "timestamp           2023-01-01 00:00:00\n",
            "temperature                    00:00:00\n",
            "pressure                           30.5\n",
            "vibration                           0.1\n",
            "runtime                           120.0\n",
            "maintenance_type                   None\n",
            "failure_label                       0.0\n",
            "Name: 0, dtype: object\n"
          ]
        }
      ]
    },
    {
      "cell_type": "code",
      "source": [
        "# Extract the second row\n",
        "second_row = data.iloc[1]\n",
        "\n",
        "# Print the second row\n",
        "print(\"\\nSecond Row:\")\n",
        "print(second_row)"
      ],
      "metadata": {
        "colab": {
          "base_uri": "https://localhost:8080/"
        },
        "id": "6IDy6qgilY81",
        "outputId": "5c8458d9-88a3-4362-a2d8-6d4ab65e348f"
      },
      "execution_count": 13,
      "outputs": [
        {
          "output_type": "stream",
          "name": "stdout",
          "text": [
            "\n",
            "Second Row:\n",
            "timestamp           2023-01-01 00:00:00\n",
            "temperature                    01:00:00\n",
            "pressure                           32.0\n",
            "vibration                          0.15\n",
            "runtime                           125.0\n",
            "maintenance_type                   None\n",
            "failure_label                       0.0\n",
            "Name: 1, dtype: object\n"
          ]
        }
      ]
    },
    {
      "cell_type": "code",
      "source": [],
      "metadata": {
        "id": "8pNf6yc9m9pF"
      },
      "execution_count": null,
      "outputs": []
    }
  ]
}