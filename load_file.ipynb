{
  "nbformat": 4,
  "nbformat_minor": 0,
  "metadata": {
    "colab": {
      "provenance": [],
      "authorship_tag": "ABX9TyMQx3L4OuN1eZqxzlLO/bwn",
      "include_colab_link": true
    },
    "kernelspec": {
      "name": "python3",
      "display_name": "Python 3"
    },
    "language_info": {
      "name": "python"
    }
  },
  "cells": [
    {
      "cell_type": "markdown",
      "metadata": {
        "id": "view-in-github",
        "colab_type": "text"
      },
      "source": [
        "<a href=\"https://colab.research.google.com/github/mwanzia-2000/Advanced/blob/main/load_file.ipynb\" target=\"_parent\"><img src=\"https://colab.research.google.com/assets/colab-badge.svg\" alt=\"Open In Colab\"/></a>"
      ]
    },
    {
      "cell_type": "code",
      "execution_count": 1,
      "metadata": {
        "id": "90HNZIR85a92"
      },
      "outputs": [],
      "source": [
        "from google.colab import drive"
      ]
    },
    {
      "cell_type": "code",
      "source": [
        "drive.mount('/content/drive')"
      ],
      "metadata": {
        "colab": {
          "base_uri": "https://localhost:8080/"
        },
        "id": "RuVkEp_S5xwZ",
        "outputId": "dc81a8ee-df2d-439f-a6fc-a3518cfb672d"
      },
      "execution_count": 2,
      "outputs": [
        {
          "output_type": "stream",
          "name": "stdout",
          "text": [
            "Mounted at /content/drive\n"
          ]
        }
      ]
    },
    {
      "cell_type": "code",
      "source": [
        "import pandas as pd"
      ],
      "metadata": {
        "id": "47KJVDGn59zX"
      },
      "execution_count": 3,
      "outputs": []
    },
    {
      "cell_type": "code",
      "source": [
        "file_path = '/content/drive/MyDrive/predictive_maintenance/model.csv.xlsx'"
      ],
      "metadata": {
        "id": "YSIok2i9CtJi"
      },
      "execution_count": 6,
      "outputs": []
    },
    {
      "cell_type": "code",
      "source": [
        "data = pd.read_excel(file_path, sheet_name='Sheet1')"
      ],
      "metadata": {
        "id": "W-sNsLLzDx1z"
      },
      "execution_count": 8,
      "outputs": []
    },
    {
      "cell_type": "code",
      "source": [
        "print(\"First 5 rows of the DataFrame:\")"
      ],
      "metadata": {
        "colab": {
          "base_uri": "https://localhost:8080/"
        },
        "id": "P35Hcs92EAhl",
        "outputId": "3a2ed7fd-8a43-4b4b-81b4-f5227661a2ff"
      },
      "execution_count": 9,
      "outputs": [
        {
          "output_type": "stream",
          "name": "stdout",
          "text": [
            "First 5 rows of the DataFrame:\n"
          ]
        }
      ]
    },
    {
      "cell_type": "code",
      "source": [
        "print(data.head())"
      ],
      "metadata": {
        "colab": {
          "base_uri": "https://localhost:8080/"
        },
        "id": "uUexjY35ElYk",
        "outputId": "9794e735-a676-45c0-ef03-74d4dc2a8948"
      },
      "execution_count": 10,
      "outputs": [
        {
          "output_type": "stream",
          "name": "stdout",
          "text": [
            "  Temperature    Pressure Vibration Target\n",
            "0   75.660061  104.030252  0.449098      0\n",
            "1   77.172246   99.861189  0.438953      0\n",
            "2   53.838638  104.857689   0.51335      0\n",
            "3   79.691067   97.779284  0.478162      0\n",
            "4         ...         ...       ...    ...\n"
          ]
        }
      ]
    },
    {
      "cell_type": "code",
      "source": [
        "temperature_column = data['Temperature']"
      ],
      "metadata": {
        "id": "4llDaTN1EsFx"
      },
      "execution_count": 11,
      "outputs": []
    },
    {
      "cell_type": "code",
      "source": [
        "pressure_column = data['Pressure']"
      ],
      "metadata": {
        "id": "H-XVvb26E-xI"
      },
      "execution_count": 12,
      "outputs": []
    },
    {
      "cell_type": "code",
      "source": [
        "first_row = data.iloc[0]  # Access the first row"
      ],
      "metadata": {
        "id": "DoOfHb5ZFDpT"
      },
      "execution_count": 13,
      "outputs": []
    },
    {
      "cell_type": "code",
      "source": [
        "second_row = data.iloc[1]  # Access the second row"
      ],
      "metadata": {
        "id": "3Cm1tioFFJvq"
      },
      "execution_count": 14,
      "outputs": []
    },
    {
      "cell_type": "code",
      "source": [
        "print(\"\\nTemperature Column:\")"
      ],
      "metadata": {
        "colab": {
          "base_uri": "https://localhost:8080/"
        },
        "id": "SpCOEidyFPbW",
        "outputId": "f3300d5b-06e9-4c8e-8ff8-a194d41011ae"
      },
      "execution_count": 15,
      "outputs": [
        {
          "output_type": "stream",
          "name": "stdout",
          "text": [
            "\n",
            "Temperature Column:\n"
          ]
        }
      ]
    },
    {
      "cell_type": "code",
      "source": [
        "print(temperature_column)"
      ],
      "metadata": {
        "colab": {
          "base_uri": "https://localhost:8080/"
        },
        "id": "YaxDpW6QFYBO",
        "outputId": "5aa40d32-bd76-4f1a-81fd-fcd91eb575d8"
      },
      "execution_count": 16,
      "outputs": [
        {
          "output_type": "stream",
          "name": "stdout",
          "text": [
            "0    75.660061\n",
            "1    77.172246\n",
            "2    53.838638\n",
            "3    79.691067\n",
            "4          ...\n",
            "Name: Temperature, dtype: object\n"
          ]
        }
      ]
    },
    {
      "cell_type": "code",
      "source": [
        "print(\"\\nPressure Column:\")"
      ],
      "metadata": {
        "colab": {
          "base_uri": "https://localhost:8080/"
        },
        "id": "fOWVSEeuFezU",
        "outputId": "1e13147a-1b7f-44ea-b86d-f57363340f0e"
      },
      "execution_count": 17,
      "outputs": [
        {
          "output_type": "stream",
          "name": "stdout",
          "text": [
            "\n",
            "Pressure Column:\n"
          ]
        }
      ]
    },
    {
      "cell_type": "code",
      "source": [
        "print(pressure_column)"
      ],
      "metadata": {
        "colab": {
          "base_uri": "https://localhost:8080/"
        },
        "id": "4wrFbiPeFrTg",
        "outputId": "2734d7c1-9645-4e0c-bf0f-d12e399c4504"
      },
      "execution_count": 18,
      "outputs": [
        {
          "output_type": "stream",
          "name": "stdout",
          "text": [
            "0    104.030252\n",
            "1     99.861189\n",
            "2    104.857689\n",
            "3     97.779284\n",
            "4           ...\n",
            "Name: Pressure, dtype: object\n"
          ]
        }
      ]
    },
    {
      "cell_type": "code",
      "source": [
        "print(\"\\nFirst Row:\")\n",
        "print(first_row)\n",
        "\n",
        "print(\"\\nSecond Row:\")\n",
        "print(second_row)"
      ],
      "metadata": {
        "colab": {
          "base_uri": "https://localhost:8080/"
        },
        "id": "ws5o1g3HFwZy",
        "outputId": "9d5f5d30-5b36-4d7b-d3df-d37ef7eb1cce"
      },
      "execution_count": 19,
      "outputs": [
        {
          "output_type": "stream",
          "name": "stdout",
          "text": [
            "\n",
            "First Row:\n",
            "Temperature     75.660061\n",
            "Pressure       104.030252\n",
            "Vibration        0.449098\n",
            "Target                  0\n",
            "Name: 0, dtype: object\n",
            "\n",
            "Second Row:\n",
            "Temperature    77.172246\n",
            "Pressure       99.861189\n",
            "Vibration       0.438953\n",
            "Target                 0\n",
            "Name: 1, dtype: object\n"
          ]
        }
      ]
    },
    {
      "cell_type": "code",
      "source": [],
      "metadata": {
        "id": "viwvdXpMF9vV"
      },
      "execution_count": null,
      "outputs": []
    }
  ]
}